{
 "cells": [
  {
   "cell_type": "code",
   "execution_count": 1,
   "metadata": {},
   "outputs": [
    {
     "data": {
      "text/html": [
       "\n",
       "<!DOCTYPE html>\n",
       "<html lang=\"en\">\n",
       "    <head>\n",
       "        <link rel=\"stylesheet\" href=\"https://www.w3schools.com/w3css/4/w3.css\">\n",
       "        <link rel=\"stylesheet\" href=\"https://fonts.googleapis.com/css?family=Raleway\">\n",
       "        <link rel=\"stylesheet\" href=\"https://fonts.googleapis.com/css?family=Oswald\">\n",
       "        <link rel=\"stylesheet\" href=\"https://fonts.googleapis.com/css?family=Open Sans\">\n",
       "        <link rel=\"stylesheet\" href=\"https://cdnjs.cloudflare.com/ajax/libs/font-awesome/4.7.0/css/font-awesome.min.css\">\n",
       "        <style>\n",
       "        .title-section{\n",
       "            font-family: \"Oswald\", Arial, sans-serif;\n",
       "            font-weight: bold;\n",
       "            color: \"#6A8CAF\";\n",
       "            letter-spacing: 6px;\n",
       "        }\n",
       "        hr { border: 1px solid #E58F65 !important;\n",
       "             color: #E58F65 !important;\n",
       "             background: #E58F65 !important;\n",
       "           }\n",
       "        body {\n",
       "            font-family: \"Open Sans\", sans-serif;\n",
       "            }        \n",
       "        </style>\n",
       "    </head>    \n",
       "</html>\n"
      ],
      "text/plain": [
       "<IPython.core.display.HTML object>"
      ]
     },
     "execution_count": 1,
     "metadata": {},
     "output_type": "execute_result"
    }
   ],
   "source": [
    "from IPython.core.display import display, HTML, Javascript\n",
    "\n",
    "# ----- Notebook Theme -----\n",
    "\n",
    "notebook_theme = 'carrot'\n",
    "color_maps = {'turquoise': ['#1abc9c', '#e8f8f5', '#d1f2eb', '#a3e4d7', '#76d7c4', '#48c9b0', '#1abc9c', '#17a589', '#148f77', '#117864', '#0e6251'], 'green': ['#16a085', '#e8f6f3', '#d0ece7', '#a2d9ce', '#73c6b6', '#45b39d', '#16a085', '#138d75', '#117a65', '#0e6655', '#0b5345'], 'emerald': ['#2ecc71', '#eafaf1', '#d5f5e3', '#abebc6', '#82e0aa', '#58d68d', '#2ecc71', '#28b463', '#239b56', '#1d8348', '#186a3b'], 'nephritis': ['#27ae60', '#e9f7ef', '#d4efdf', '#a9dfbf', '#7dcea0', '#52be80', '#27ae60', '#229954', '#1e8449', '#196f3d', '#145a32'], 'peter': ['#3498db', '#ebf5fb', '#d6eaf8', '#aed6f1', '#85c1e9', '#5dade2', '#3498db', '#2e86c1', '#2874a6', '#21618c', '#1b4f72'], 'belize': ['#2980b9', '#eaf2f8', '#d4e6f1', '#a9cce3', '#7fb3d5', '#5499c7', '#2980b9', '#2471a3', '#1f618d', '#1a5276', '#154360'], 'amethyst': ['#9b59b6', '#f5eef8', '#ebdef0', '#d7bde2', '#c39bd3', '#af7ac5', '#9b59b6', '#884ea0', '#76448a', '#633974', '#512e5f'], 'wisteria': ['#8e44ad', '#f4ecf7', '#e8daef', '#d2b4de', '#bb8fce', '#a569bd', '#8e44ad', '#7d3c98', '#6c3483', '#5b2c6f', '#4a235a'], 'wet': ['#34495e', '#ebedef', '#d6dbdf', '#aeb6bf', '#85929e', '#5d6d7e', '#34495e', '#2e4053', '#283747', '#212f3c', '#1b2631'], 'midnight': ['#2c3e50', '#eaecee', '#d5d8dc', '#abb2b9', '#808b96', '#566573', '#2c3e50', '#273746', '#212f3d', '#1c2833', '#17202a'], 'sunflower': ['#f1c40f', '#fef9e7', '#fcf3cf', '#f9e79f', '#f7dc6f', '#f4d03f', '#f1c40f', '#d4ac0d', '#b7950b', '#9a7d0a', '#7d6608'], 'orange': ['#f39c12', '#fef5e7', '#fdebd0', '#fad7a0', '#f8c471', '#f5b041', '#f39c12', '#d68910', '#b9770e', '#9c640c', '#7e5109'], 'carrot': ['#e67e22', '#fdf2e9', '#fae5d3', '#f5cba7', '#f0b27a', '#eb984e', '#e67e22', '#ca6f1e', '#af601a', '#935116', '#784212'], 'pumpkin': ['#d35400', '#fbeee6', '#f6ddcc', '#edbb99', '#e59866', '#dc7633', '#d35400', '#ba4a00', '#a04000', '#873600', '#6e2c00'], 'alizarin': ['#e74c3c', '#fdedec', '#fadbd8', '#f5b7b1', '#f1948a', '#ec7063', '#e74c3c', '#cb4335', '#b03a2e', '#943126', '#78281f'], 'pomegranate': ['#c0392b', '#f9ebea', '#f2d7d5', '#e6b0aa', '#d98880', '#cd6155', '#c0392b', '#a93226', '#922b21', '#7b241c', '#641e16'], 'clouds': ['#ecf0f1', '#fdfefe', '#fbfcfc', '#f7f9f9', '#f4f6f7', '#f0f3f4', '#ecf0f1', '#d0d3d4', '#b3b6b7', '#979a9a', '#7b7d7d'], 'silver': ['#bdc3c7', '#f8f9f9', '#f2f3f4', '#e5e7e9', '#d7dbdd', '#cacfd2', '#bdc3c7', '#a6acaf', '#909497', '#797d7f', '#626567'], 'concrete': ['#95a5a6', '#f4f6f6', '#eaeded', '#d5dbdb', '#bfc9ca', '#aab7b8', '#95a5a6', '#839192', '#717d7e', '#5f6a6a', '#4d5656'], 'asbestos': ['#7f8c8d', '#f2f4f4', '#e5e8e8', '#ccd1d1', '#b2babb', '#99a3a4', '#7f8c8d', '#707b7c', '#616a6b', '#515a5a', '#424949']}\n",
    "# color_maps = {'red': ['#f44336', '#ffebee', '#ffcdd2', '#ef9a9a', '#e57373', '#ef5350', '#f44336', '#e53935', '#d32f2f', '#c62828', '#b71c1c', '#ff8a80', '#ff5252', '#ff1744', '#d50000'], 'pink': ['#e91e63', '#fce4ec', '#f8bbd0', '#f48fb1', '#f06292', '#ec407a', '#e91e63', '#d81b60', '#c2185b', '#ad1457', '#880e4f', '#ff80ab', '#ff4081', '#f50057', '#c51162'], 'purple': ['#9c27b0', '#f3e5f5', '#e1bee7', '#ce93d8', '#ba68c8', '#ab47bc', '#9c27b0', '#8e24aa', '#7b1fa2', '#6a1b9a', '#4a148c', '#ea80fc', '#e040fb', '#d500f9', '#aa00ff'], 'deep': ['#673ab7', '#ede7f6', '#d1c4e9', '#b39ddb', '#9575cd', '#7e57c2', '#673ab7', '#5e35b1', '#512da8', '#4527a0', '#311b92', '#b388ff', '#7c4dff', '#651fff', '#6200ea', '#ff5722', '#fbe9e7', '#ffccbc', '#ffab91', '#ff8a65', '#ff7043', '#ff5722', '#f4511e', '#e64a19', '#d84315', '#bf360c', '#ff9e80', '#ff6e40', '#ff3d00', '#dd2c00'], 'indigo': ['#3f51b5', '#e8eaf6', '#c5cae9', '#9fa8da', '#7986cb', '#5c6bc0', '#3f51b5', '#3949ab', '#303f9f', '#283593', '#1a237e', '#8c9eff', '#536dfe', '#3d5afe', '#304ffe'], 'blue': ['#2196f3', '#e3f2fd', '#bbdefb', '#90caf9', '#64b5f6', '#42a5f5', '#2196f3', '#1e88e5', '#1976d2', '#1565c0', '#0d47a1', '#82b1ff', '#448aff', '#2979ff', '#2962ff', '#607d8b', '#eceff1', '#cfd8dc', '#b0bec5', '#90a4ae', '#78909c', '#607d8b', '#546e7a', '#455a64', '#37474f', '#263238'], 'light': ['#03a9f4', '#e1f5fe', '#b3e5fc', '#81d4fa', '#4fc3f7', '#29b6f6', '#03a9f4', '#039be5', '#0288d1', '#0277bd', '#01579b', '#80d8ff', '#40c4ff', '#00b0ff', '#0091ea', '#8bc34a', '#f1f8e9', '#dcedc8', '#c5e1a5', '#aed581', '#9ccc65', '#8bc34a', '#7cb342', '#689f38', '#558b2f', '#33691e', '#ccff90', '#b2ff59', '#76ff03', '#64dd17'], 'cyan': ['#00bcd4', '#e0f7fa', '#b2ebf2', '#80deea', '#4dd0e1', '#26c6da', '#00bcd4', '#00acc1', '#0097a7', '#00838f', '#006064', '#84ffff', '#18ffff', '#00e5ff', '#00b8d4'], 'teal': ['#009688', '#e0f2f1', '#b2dfdb', '#80cbc4', '#4db6ac', '#26a69a', '#009688', '#00897b', '#00796b', '#00695c', '#004d40', '#a7ffeb', '#64ffda', '#1de9b6', '#00bfa5'], 'green': ['#4caf50', '#e8f5e9', '#c8e6c9', '#a5d6a7', '#81c784', '#66bb6a', '#4caf50', '#43a047', '#388e3c', '#2e7d32', '#1b5e20', '#b9f6ca', '#69f0ae', '#00e676', '#00c853'], 'lime': ['#cddc39', '#f9fbe7', '#f0f4c3', '#e6ee9c', '#dce775', '#d4e157', '#cddc39', '#c0ca33', '#afb42b', '#9e9d24', '#827717', '#f4ff81', '#eeff41', '#c6ff00', '#aeea00'], 'yellow': ['#ffeb3b', '#fffde7', '#fff9c4', '#fff59d', '#fff176', '#ffee58', '#ffeb3b', '#fdd835', '#fbc02d', '#f9a825', '#f57f17', '#ffff8d', '#ffff00', '#ffea00', '#ffd600'], 'amber': ['#ffc107', '#fff8e1', '#ffecb3', '#ffe082', '#ffd54f', '#ffca28', '#ffc107', '#ffb300', '#ffa000', '#ff8f00', '#ff6f00', '#ffe57f', '#ffd740', '#ffc400', '#ffab00'], 'orange': ['#ff9800', '#fff3e0', '#ffe0b2', '#ffcc80', '#ffb74d', '#ffa726', '#ff9800', '#fb8c00', '#f57c00', '#ef6c00', '#e65100', '#ffd180', '#ffab40', '#ff9100', '#ff6d00'], 'brown': ['#795548', '#efebe9', '#d7ccc8', '#bcaaa4', '#a1887f', '#8d6e63', '#795548', '#6d4c41', '#5d4037', '#4e342e', '#3e2723'], 'grey': ['#9e9e9e', '#fafafa', '#f5f5f5', '#eeeeee', '#e0e0e0', '#bdbdbd', '#9e9e9e', '#757575', '#616161', '#424242', '#212121'], 'white': ['#ffffff'], 'black': ['#000000']}\n",
    "\n",
    "color_maps = {i: color_maps[i] for i in color_maps if i not in ['clouds', 'silver', 'concrete', 'asbestos', 'wet asphalt', 'midnight blue', 'wet']}\n",
    "\n",
    "CMAP = 'Oranges'\n",
    "prompt = '#1DBCCD'\n",
    "main_color = '#E58F65' # color_maps[notebook_theme]\n",
    "strong_main_color = '#EB9514' # = color_maps[notebook_theme] \n",
    "custom_colors = [strong_main_color, main_color]\n",
    "\n",
    "# ----- Notebook Theme -----\n",
    "\n",
    "html_contents =\"\"\"\n",
    "<!DOCTYPE html>\n",
    "<html lang=\"en\">\n",
    "    <head>\n",
    "        <link rel=\"stylesheet\" href=\"https://www.w3schools.com/w3css/4/w3.css\">\n",
    "        <link rel=\"stylesheet\" href=\"https://fonts.googleapis.com/css?family=Raleway\">\n",
    "        <link rel=\"stylesheet\" href=\"https://fonts.googleapis.com/css?family=Oswald\">\n",
    "        <link rel=\"stylesheet\" href=\"https://fonts.googleapis.com/css?family=Open Sans\">\n",
    "        <link rel=\"stylesheet\" href=\"https://cdnjs.cloudflare.com/ajax/libs/font-awesome/4.7.0/css/font-awesome.min.css\">\n",
    "        <style>\n",
    "        .title-section{\n",
    "            font-family: \"Oswald\", Arial, sans-serif;\n",
    "            font-weight: bold;\n",
    "            color: \"#6A8CAF\";\n",
    "            letter-spacing: 6px;\n",
    "        }\n",
    "        hr { border: 1px solid #E58F65 !important;\n",
    "             color: #E58F65 !important;\n",
    "             background: #E58F65 !important;\n",
    "           }\n",
    "        body {\n",
    "            font-family: \"Open Sans\", sans-serif;\n",
    "            }        \n",
    "        </style>\n",
    "    </head>    \n",
    "</html>\n",
    "\"\"\"\n",
    "\n",
    "HTML(html_contents)"
   ]
  },
  {
   "cell_type": "code",
   "execution_count": 2,
   "metadata": {},
   "outputs": [
    {
     "data": {
      "text/html": [
       "<style>\n",
       "div #notebook {\n",
       "background-color: white;\n",
       "font-family: 'Open Sans', Helvetica, sans-serif;\n",
       "line-height: 20px;\n",
       "}\n",
       "\n",
       "#notebook-container {\n",
       "margin-top: 2em;\n",
       "padding-top: 2em;\n",
       "border-top: 4px solid #E58F65; /* light orange */\n",
       "-webkit-box-shadow: 0px 0px 8px 2px rgba(224, 212, 226, 0.5); /* pink */\n",
       "    box-shadow: 0px 0px 8px 2px rgba(224, 212, 226, 0.5); /* pink */\n",
       "}\n",
       "\n",
       "div .input {\n",
       "margin-bottom: 1em;\n",
       "}\n",
       "\n",
       ".rendered_html h1, .rendered_html h2, .rendered_html h3, .rendered_html h4, .rendered_html h5, .rendered_html h6 {\n",
       "color: #E58F65; /* light orange */\n",
       "font-weight: 600;\n",
       "}\n",
       "\n",
       ".rendered_html code {\n",
       "    background-color: #efefef; /* light gray */\n",
       "}\n",
       "\n",
       ".CodeMirror {\n",
       "color: #8c8c8c; /* dark gray */\n",
       "padding: 0.7em;\n",
       "}\n",
       "\n",
       "div.input_area {\n",
       "border: none;\n",
       "    background-color: rgba(229, 143, 101, 0.1); /* rgba(229, 143, 101, 0.1); light orange [exactly #E58F65] */\n",
       "    border-top: 2px solid #E58F65; /* light orange */\n",
       "}\n",
       "\n",
       "div.input_prompt {\n",
       "color: #1DBCCD; /* light blue */\n",
       "}\n",
       "\n",
       "div.output_prompt {\n",
       "color: #EB9514; /* strong orange */\n",
       "}\n",
       "\n",
       "div.cell.selected:before, div.cell.selected.jupyter-soft-selected:before {\n",
       "background: #E58F65; /* light orange */\n",
       "}\n",
       "\n",
       "div.cell.selected, div.cell.selected.jupyter-soft-selected {\n",
       "    border-color: #E58F65; /* light orange */\n",
       "}\n",
       "\n",
       ".edit_mode div.cell.selected:before {\n",
       "background: #E58F65; /* light orange */\n",
       "}\n",
       "\n",
       ".edit_mode div.cell.selected {\n",
       "border-color: #E58F65; /* light orange */\n",
       "\n",
       "}\n",
       "</style>"
      ],
      "text/plain": [
       "<IPython.core.display.HTML object>"
      ]
     },
     "execution_count": 2,
     "metadata": {},
     "output_type": "execute_result"
    }
   ],
   "source": [
    "css_file = '''\n",
    "div #notebook {\n",
    "background-color: white;\n",
    "font-family: 'Open Sans', Helvetica, sans-serif;\n",
    "line-height: 20px;\n",
    "}\n",
    "\n",
    "#notebook-container {\n",
    "margin-top: 2em;\n",
    "padding-top: 2em;\n",
    "border-top: 4px solid %s; /* light orange */\n",
    "-webkit-box-shadow: 0px 0px 8px 2px rgba(224, 212, 226, 0.5); /* pink */\n",
    "    box-shadow: 0px 0px 8px 2px rgba(224, 212, 226, 0.5); /* pink */\n",
    "}\n",
    "\n",
    "div .input {\n",
    "margin-bottom: 1em;\n",
    "}\n",
    "\n",
    ".rendered_html h1, .rendered_html h2, .rendered_html h3, .rendered_html h4, .rendered_html h5, .rendered_html h6 {\n",
    "color: %s; /* light orange */\n",
    "font-weight: 600;\n",
    "}\n",
    "\n",
    ".rendered_html code {\n",
    "    background-color: #efefef; /* light gray */\n",
    "}\n",
    "\n",
    ".CodeMirror {\n",
    "color: #8c8c8c; /* dark gray */\n",
    "padding: 0.7em;\n",
    "}\n",
    "\n",
    "div.input_area {\n",
    "border: none;\n",
    "    background-color: %s; /* rgba(229, 143, 101, 0.1); light orange [exactly #E58F65] */\n",
    "    border-top: 2px solid %s; /* light orange */\n",
    "}\n",
    "\n",
    "div.input_prompt {\n",
    "color: %s; /* light blue */\n",
    "}\n",
    "\n",
    "div.output_prompt {\n",
    "color: %s; /* strong orange */\n",
    "}\n",
    "\n",
    "div.cell.selected:before, div.cell.selected.jupyter-soft-selected:before {\n",
    "background: %s; /* light orange */\n",
    "}\n",
    "\n",
    "div.cell.selected, div.cell.selected.jupyter-soft-selected {\n",
    "    border-color: %s; /* light orange */\n",
    "}\n",
    "\n",
    ".edit_mode div.cell.selected:before {\n",
    "background: %s; /* light orange */\n",
    "}\n",
    "\n",
    ".edit_mode div.cell.selected {\n",
    "border-color: %s; /* light orange */\n",
    "\n",
    "}\n",
    "'''\n",
    "def to_rgb(h): return tuple(int(h[i:i+2], 16) for i in (0, 2, 4))\n",
    "main_color_rgba = 'rgba(%s, %s, %s, 0.1)' % (to_rgb(main_color[1:])[0], to_rgb(main_color[1:])[1], to_rgb(main_color[1:])[2])\n",
    "open('notebook.css', 'w').write(css_file % (main_color, main_color, main_color_rgba, main_color,  prompt, strong_main_color, main_color, main_color, main_color, main_color))\n",
    "from IPython.core.display import display, HTML, Javascript\n",
    "def nb(): return HTML(\"<style>\" + open(\"notebook.css\", \"r\").read() + \"</style>\")\n",
    "nb()"
   ]
  },
  {
   "cell_type": "code",
   "execution_count": 3,
   "metadata": {},
   "outputs": [
    {
     "data": {
      "text/html": [
       "<style>\n",
       "div #notebook {\n",
       "background-color: white;\n",
       "font-family: 'Open Sans', Helvetica, sans-serif;\n",
       "line-height: 20px;\n",
       "}\n",
       "\n",
       "#notebook-container {\n",
       "margin-top: 2em;\n",
       "padding-top: 2em;\n",
       "border-top: 4px solid #E58F65; /* light orange */\n",
       "-webkit-box-shadow: 0px 0px 8px 2px rgba(224, 212, 226, 0.5); /* pink */\n",
       "    box-shadow: 0px 0px 8px 2px rgba(224, 212, 226, 0.5); /* pink */\n",
       "}\n",
       "\n",
       "div .input {\n",
       "margin-bottom: 1em;\n",
       "}\n",
       "\n",
       ".rendered_html h1, .rendered_html h2, .rendered_html h3, .rendered_html h4, .rendered_html h5, .rendered_html h6 {\n",
       "color: #E58F65; /* light orange */\n",
       "font-weight: 600;\n",
       "}\n",
       "\n",
       ".rendered_html code {\n",
       "    background-color: #efefef; /* light gray */\n",
       "}\n",
       "\n",
       ".CodeMirror {\n",
       "color: #8c8c8c; /* dark gray */\n",
       "padding: 0.7em;\n",
       "}\n",
       "\n",
       "div.input_area {\n",
       "border: none;\n",
       "    background-color: rgba(229, 143, 101, 0.1); /* rgba(229, 143, 101, 0.1); light orange [exactly #E58F65] */\n",
       "    border-top: 2px solid #E58F65; /* light orange */\n",
       "}\n",
       "\n",
       "div.input_prompt {\n",
       "color: #1DBCCD; /* light blue */\n",
       "}\n",
       "\n",
       "div.output_prompt {\n",
       "color: #EB9514; /* strong orange */\n",
       "}\n",
       "\n",
       "div.cell.selected:before, div.cell.selected.jupyter-soft-selected:before {\n",
       "background: #E58F65; /* light orange */\n",
       "}\n",
       "\n",
       "div.cell.selected, div.cell.selected.jupyter-soft-selected {\n",
       "    border-color: #E58F65; /* light orange */\n",
       "}\n",
       "\n",
       ".edit_mode div.cell.selected:before {\n",
       "background: #E58F65; /* light orange */\n",
       "}\n",
       "\n",
       ".edit_mode div.cell.selected {\n",
       "border-color: #E58F65; /* light orange */\n",
       "\n",
       "}\n",
       "</style>"
      ],
      "text/plain": [
       "<IPython.core.display.HTML object>"
      ]
     },
     "execution_count": 3,
     "metadata": {},
     "output_type": "execute_result"
    }
   ],
   "source": [
    "from IPython.core.display import display, HTML, Javascript\n",
    "# def nb(): return HTML(\"<style>\" + open(\"../input/starter-utils/css_oranges.css\", \"r\").read() + \"</style>\")\n",
    "def nb(): return HTML(\"<style>\" + open(\"notebook.css\", \"r\").read() + \"</style>\")\n",
    "nb()"
   ]
  },
  {
   "cell_type": "markdown",
   "metadata": {},
   "source": [
    "<br><br>\n",
    "<div>    \n",
    "<!--     <div style = \"float:left; width:55%; overflow:hidden;\">         -->\n",
    "        <center><img src=\"https://cdn.litemarkets.com/cache/uploads/blog_post/blog_posts/RSI-indicator/rsi-indicator-forex-blog-preview.jpg?q=75&w=1000&s=db0b45f349b80c12bafebe6fae1e0f59\" style = \"max-height:300px;\"></center> \n",
    "<!--     </div> -->\n",
    "<!--     <div style = \"float:right; width:35%; overflow:hidden;\"> -->\n",
    "<!--         <img src=\"img/meditation/Meditation3.gif\">  -->\n",
    "<!--     </div> -->\n",
    "</div>"
   ]
  },
  {
   "cell_type": "markdown",
   "metadata": {},
   "source": [
    "**NOT FINANCIAL ADVICE, DO YOUR HOMEWORK**"
   ]
  },
  {
   "cell_type": "markdown",
   "metadata": {},
   "source": [
    "# <span class=\"title-section w3-xxlarge\" id=\"codebook\">Understanding RSI and Analysis</span>\n",
    "<hr>"
   ]
  },
  {
   "cell_type": "markdown",
   "metadata": {},
   "source": [
    "## Introduction:\n",
    "\n",
    "Relative Strength Index([RSI](https://www.investopedia.com/terms/r/rsi.asp)) is a widely used in technical analysis. It is a type of momentum indicator. RSI quantifies secturity's(stock's) recent(depends on the look-back period) gains or losses to suggest if the stock is overbought or oversold.\n",
    "\n",
    "## How is it calculated:\n"
   ]
  },
  {
   "cell_type": "code",
   "execution_count": 9,
   "metadata": {},
   "outputs": [
    {
     "data": {
      "text/plain": [
       "{'tags': ['hide-input']}"
      ]
     },
     "execution_count": 9,
     "metadata": {},
     "output_type": "execute_result"
    }
   ],
   "source": [
    "{\n",
    "    \"tags\": [\n",
    "        \"hide-input\",\n",
    "    ]\n",
    "}"
   ]
  },
  {
   "cell_type": "code",
   "execution_count": 10,
   "metadata": {},
   "outputs": [],
   "source": [
    "{\n",
    "    \"tags\": [\n",
    "        \"hide-input\",\n",
    "    ]\n",
    "}\n",
    "\n",
    "import pandas as pd"
   ]
  },
  {
   "cell_type": "code",
   "execution_count": 11,
   "metadata": {},
   "outputs": [
    {
     "data": {
      "text/plain": [
       "5"
      ]
     },
     "execution_count": 11,
     "metadata": {},
     "output_type": "execute_result"
    }
   ],
   "source": [
    "2+3"
   ]
  },
  {
   "cell_type": "code",
   "execution_count": 12,
   "metadata": {},
   "outputs": [
    {
     "data": {
      "text/plain": [
       "<matplotlib.collections.PathCollection at 0x1db02079730>"
      ]
     },
     "execution_count": 12,
     "metadata": {},
     "output_type": "execute_result"
    },
    {
     "data": {
      "image/png": "[encoded data removed]",
      "text/plain": [
       "<Figure size 432x288 with 1 Axes>"
      ]
     },
     "metadata": {
      "needs_background": "light"
     },
     "output_type": "display_data"
    }
   ],
   "source": [
    "import numpy as np\n",
    "import matplotlib.pyplot as plt\n",
    "plt.ion()\n",
    "\n",
    "data = np.random.randn(2, 100)\n",
    "fig, ax = plt.subplots()\n",
    "ax.scatter(*data, c=data[1], s=100*np.abs(data[0]))"
   ]
  },
  {
   "cell_type": "code",
   "execution_count": 13,
   "metadata": {},
   "outputs": [
    {
     "data": {
      "text/plain": [
       "7"
      ]
     },
     "execution_count": 13,
     "metadata": {},
     "output_type": "execute_result"
    }
   ],
   "source": [
    "3+4"
   ]
  }
 ],
 "metadata": {
  "interpreter": {
   "hash": "f195d28a76305ae374346755316c79a40fe88f625da5bf1e60db59c378ee9bb1"
  },
  "kernelspec": {
   "display_name": "Python 3.9.6 64-bit",
   "language": "python",
   "name": "python3"
  },
  "language_info": {
   "codemirror_mode": {
    "name": "ipython",
    "version": 3
   },
   "file_extension": ".py",
   "mimetype": "text/x-python",
   "name": "python",
   "nbconvert_exporter": "python",
   "pygments_lexer": "ipython3",
   "version": "3.9.6"
  },
  "orig_nbformat": 4
 },
 "nbformat": 4,
 "nbformat_minor": 2
}
